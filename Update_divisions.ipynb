{
 "cells": [
  {
   "cell_type": "markdown",
   "id": "26eab5a7",
   "metadata": {},
   "source": [
    "## Update Divisions and statistics\n",
    "This notebook will take your finished seasons, find out who was promoted and relegated bewteen the two divisions, and update statistics (an attempt at simulating transfers)"
   ]
  },
  {
   "cell_type": "code",
   "execution_count": null,
   "id": "e2bed551",
   "metadata": {},
   "outputs": [],
   "source": [
    "# ---------------\n",
    "# Load packages\n",
    "# ---------------\n",
    "import numpy as np  \n",
    "from premierleague_fncs import *\n",
    "import re   \n",
    "from functools import reduce\n",
    "import functools\n",
    "import _pickle as cpk\n",
    "import math"
   ]
  }
 ],
 "metadata": {
  "kernelspec": {
   "display_name": "astro",
   "language": "python",
   "name": "python3"
  },
  "language_info": {
   "name": "python",
   "version": "3.11.6"
  }
 },
 "nbformat": 4,
 "nbformat_minor": 5
}
