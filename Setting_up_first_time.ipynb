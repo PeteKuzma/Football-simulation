{
 "cells": [
  {
   "cell_type": "markdown",
   "metadata": {},
   "source": [
    "### EPL code \n",
    "This notebook you can run to create the first season if you have never run before."
   ]
  },
  {
   "cell_type": "code",
   "execution_count": 6,
   "metadata": {},
   "outputs": [],
   "source": [
    "# Import packages\n",
    "# ------------------\n",
    "import numpy as np  \n",
    "from premierleague_fncs import *\n",
    "import re   \n",
    "from functools import reduce\n",
    "import functools\n",
    "import _pickle as cpk\n",
    "import math\n",
    "import os\n",
    "import shutil\n",
    "\n",
    "# Custom definitions not in any package.\n",
    "\n",
    "def get_nth_key(dictionary, n=0):\n",
    "    if n < 0:\n",
    "        n += len(dictionary)\n",
    "    for i, key in enumerate(dictionary.keys()):\n",
    "        if i == n:\n",
    "            return key\n",
    "    raise IndexError(\"dictionary index out of range\") \n",
    "\n",
    "\n"
   ]
  },
  {
   "cell_type": "code",
   "execution_count": 7,
   "metadata": {},
   "outputs": [],
   "source": [
    "# Load in the team list. PETE, IF EASY, MAKE LIST A PANDA TABLE\n",
    "fopen=open(\"/Users/peteKuzma/Documents/Software/EPL/TEAM_LIST_orig.pickle\",'rb')\n",
    "#fopen=open(\"/Users/petekuzma/Documents/Software/EPL/TEAM_LIST.pickle\",'rb')\n",
    "teams_full=cpk.load(fopen)\n",
    "fopen.close()\n",
    "\n",
    "# Define number of teams\n",
    "prem_n = 20 # Number of premier league teams\n",
    "div1_n = 24 # Number of division 1 teams"
   ]
  },
  {
   "cell_type": "code",
   "execution_count": 8,
   "metadata": {},
   "outputs": [],
   "source": [
    "# Create the team list of IDs, and the dictionary team stars belonging to the ID.\n",
    "ids=[]\n",
    "id2team=dict()\n",
    "for i in range(len(teams_full)):\n",
    "    ids.append(teams_full[i][3])\n",
    "    id2team[teams_full[i][3]]=teams_full[i][0:5]"
   ]
  },
  {
   "cell_type": "code",
   "execution_count": 9,
   "metadata": {},
   "outputs": [],
   "source": [
    "# Define some output files that will hold statistics.\n",
    "# This will hold all-time teams statistics\n",
    "fdir=\"/Users/petekuzma/Documents/Software/EPL/TEAM_STATS.pickle\"\n",
    "\n",
    "# This holds the team statistics for the forthcoming season in the Premier League\n",
    "Pdir=\"/Users/petekuzma/Documents/Software/EPL/TEAM_PREM_STATS.pickle\"\n",
    "\n",
    "# This holds the team statistics for the forthcoming season in the Championship\n",
    "Ddir=\"/Users/petekuzma/Documents/Software/EPL/TEAM_DIV1_STATS.pickle\""
   ]
  },
  {
   "cell_type": "code",
   "execution_count": 10,
   "metadata": {},
   "outputs": [
    {
     "data": {
      "text/plain": [
       "'/Users/petekuzma/Documents/Software/EPL/TEAM_DIV1_STATS.pickle'"
      ]
     },
     "execution_count": 10,
     "metadata": {},
     "output_type": "execute_result"
    }
   ],
   "source": [
    "# Create the dictionary that will hold the team statistics for the forthcoming season\n",
    "FULLDICT=dict()\n",
    "#if os.path.isfile(\"TEAM_STATS.pickle\") !=True:\n",
    "for i in ids:\n",
    "    FULLDICT[i]=dict()\n",
    "    FULLDICT[i]['POS_PREM'] = [] # Previous season position\n",
    "    FULLDICT[i]['POS_DIV1'] = [] # Previous season position\n",
    "    FULLDICT[i]['POS_ALTM'] = [] # All time position\n",
    "    FULLDICT[i]['M']        = [] # Matches played total\n",
    "    FULLDICT[i]['W']        = [] # Matches won total\n",
    "    FULLDICT[i]['D']        = [] # Matches drawn total\n",
    "    FULLDICT[i]['L']        = [] # Matches lost total\n",
    "    FULLDICT[i]['Gs']       = [] # Goals scored total\n",
    "    FULLDICT[i]['Gr']       = [] # Goals conceded total\n",
    "    FULLDICT[i]['P']        = [] # Points Total\n",
    "    FULLDICT[i]['HM']       = [] # Home matches played total\n",
    "    FULLDICT[i]['HW']       = [] # Home matches won total\n",
    "    FULLDICT[i]['HD']       = [] # Home matches drawn total\n",
    "    FULLDICT[i]['HL']       = [] # Home matches lost total\n",
    "    FULLDICT[i]['HGs']      = [] # Home goals scored total\n",
    "    FULLDICT[i]['HGr']      = [] # Home goals conceded total\n",
    "    FULLDICT[i]['HP']       = [] # Home points total\n",
    "    FULLDICT[i]['AM']       = [] # Away matches played total\n",
    "    FULLDICT[i]['AW']       = [] # Away matches won total\n",
    "    FULLDICT[i]['AD']       = [] # Away matches drawn total\n",
    "    FULLDICT[i]['AL']       = [] # Away matches lost total\n",
    "    FULLDICT[i]['AGs']      = [] # Away goals scored total\n",
    "    FULLDICT[i]['AGr']      = [] # Away goals conceded total\n",
    "    FULLDICT[i]['AP']       = [] # Away points total\n",
    "    FULLDICT[i]['HSTR']     = [] # Home strength\n",
    "    FULLDICT[i]['ASTR']     = [] # Away strength\n",
    "    FULLDICT[i]['X_STR']    = [] # Average strength?\n",
    "fopen=open(fdir,'wb')\n",
    "cpk.dump(FULLDICT,fopen)\n",
    "fopen.close()\n",
    "shutil.copyfile(fdir,Pdir)\n",
    "shutil.copyfile(fdir,Ddir)\n"
   ]
  },
  {
   "cell_type": "code",
   "execution_count": 11,
   "metadata": {},
   "outputs": [
    {
     "name": "stdout",
     "output_type": "stream",
     "text": [
      "Creating next seasons team lists and updated statistics..\n"
     ]
    }
   ],
   "source": [
    "# Shifting the FULLDICT into the ENTIRE list\n",
    "ENTIRE = FULLDICT\n",
    "print(\"Creating next seasons team lists and updated statistics..\")\n",
    "\n",
    "# Now dump the team list into a file for use after the season is complete.\n",
    "fopen=open(\"/Users/petekuzma/Documents/Software/EPL/TEAM_LIST.pickle\",'wb')\n",
    "cpk.dump(teams_full,fopen)\n",
    "fopen.close()"
   ]
  },
  {
   "cell_type": "code",
   "execution_count": 12,
   "metadata": {},
   "outputs": [],
   "source": [
    "premlist=[]\n",
    "pids=np.copy(teams_full)\n",
    "for i in range(prem_n):\n",
    "    premlist.append((pids[i][0],int(pids[i][1]),int(pids[i][2]),pids[i][3]))\n",
    "\n",
    "fopen=open(\"/Users/petekuzma/Documents/Software/EPL/premlist.pickle\",'wb')\n",
    "cpk.dump(premlist,fopen)\n",
    "fopen.close()"
   ]
  },
  {
   "cell_type": "code",
   "execution_count": 13,
   "metadata": {},
   "outputs": [],
   "source": [
    "div1list=[]\n",
    "pids=np.copy(teams_full)\n",
    "for i in range(div1_n):\n",
    "        div1list.append((pids[i+prem_n][0],int(pids[i+prem_n][1]),int(pids[i+prem_n][2]),pids[i+prem_n][3]))\n",
    "\n",
    " \n",
    "fopen=open(\"/Users/petekuzma/Documents/Software/EPL/div1list.pickle\",'wb')\n",
    "cpk.dump(div1list,fopen)\n",
    "fopen.close()"
   ]
  },
  {
   "cell_type": "code",
   "execution_count": 14,
   "metadata": {},
   "outputs": [
    {
     "data": {
      "text/plain": [
       "[('Blackburn Rovers', 7, 7, 'BBR'),\n",
       " ('Bristol Rovers', 7, 7, 'BRO'),\n",
       " ('Derby', 4, 10, 'DER'),\n",
       " ('Nottingham Forest', 9, 4, 'NOT'),\n",
       " ('Bristol City', 7, 5, 'BCI'),\n",
       " ('Everton', 7, 5, 'EVE'),\n",
       " ('Blackpool', 5, 7, 'BPL'),\n",
       " ('Tottenham', 6, 5, 'TOT'),\n",
       " ('West Ham', 6, 5, 'WHU'),\n",
       " ('Coventry', 1, 10, 'COV'),\n",
       " ('Aston Villa', 6, 4, 'ATV'),\n",
       " ('Newcastle', 6, 4, 'NEW'),\n",
       " ('Norwich', 5, 5, 'NOR'),\n",
       " ('Brighton', 7, 2, 'BHA'),\n",
       " ('Ipswich', 1, 8, 'IPT'),\n",
       " ('Queens Park', 5, 4, 'QPR'),\n",
       " ('Birmingham City', 2, 6, 'BIC'),\n",
       " ('Burnley', 6, 2, 'BUR'),\n",
       " ('Luton', 0, 8, 'LUT'),\n",
       " ('Hull', 4, 3, 'HUL'),\n",
       " ('Wigan', 4, 3, 'WIG'),\n",
       " ('Oldham', 7, 0, 'OLD'),\n",
       " ('Milwall', 2, 1, 'MIL'),\n",
       " ('Brentford', 0, 0, 'BRE')]"
      ]
     },
     "execution_count": 14,
     "metadata": {},
     "output_type": "execute_result"
    }
   ],
   "source": [
    "div1list"
   ]
  },
  {
   "cell_type": "code",
   "execution_count": 15,
   "metadata": {},
   "outputs": [
    {
     "data": {
      "text/plain": [
       "[('Middlesborough', 10, 9, 'MDL'),\n",
       " ('Sunderland', 9, 10, 'SUN'),\n",
       " ('Crystal Palace', 10, 8, 'CPL'),\n",
       " ('Manchester United', 10, 8, 'MNU'),\n",
       " ('Charlton', 8, 10, 'CHA'),\n",
       " ('Leeds', 8, 10, 'LDS'),\n",
       " ('Liverpool', 8, 9, 'LIV'),\n",
       " ('Swansea', 8, 9, 'SWA'),\n",
       " ('Cardiff', 9, 8, 'CAR'),\n",
       " ('Chelsea', 10, 5, 'CHE'),\n",
       " ('Leciester City', 10, 5, 'LEC'),\n",
       " ('AFC Bournmouth', 5, 10, 'BOU'),\n",
       " ('Manchester City', 5, 10, 'MNC'),\n",
       " ('Barnsley', 6, 9, 'BAR'),\n",
       " ('Notts County', 8, 7, 'NOC'),\n",
       " ('West Brom', 7, 8, 'WBA'),\n",
       " ('AFC Wimbledon', 9, 5, 'WIM'),\n",
       " ('Arsenal', 9, 5, 'ARS'),\n",
       " ('Bolton', 7, 7, 'BOL'),\n",
       " ('Fulham', 7, 7, 'FUL')]"
      ]
     },
     "execution_count": 15,
     "metadata": {},
     "output_type": "execute_result"
    }
   ],
   "source": [
    "premlist"
   ]
  },
  {
   "cell_type": "code",
   "execution_count": null,
   "metadata": {},
   "outputs": [],
   "source": []
  }
 ],
 "metadata": {
  "kernelspec": {
   "display_name": "astro",
   "language": "python",
   "name": "python3"
  },
  "language_info": {
   "codemirror_mode": {
    "name": "ipython",
    "version": 3
   },
   "file_extension": ".py",
   "mimetype": "text/x-python",
   "name": "python",
   "nbconvert_exporter": "python",
   "pygments_lexer": "ipython3",
   "version": "3.11.6"
  }
 },
 "nbformat": 4,
 "nbformat_minor": 2
}
